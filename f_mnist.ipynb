{
 "cells": [
  {
   "cell_type": "code",
   "execution_count": null,
   "id": "a2e58cd7-7d36-43da-a0ab-6988d479fc75",
   "metadata": {},
   "outputs": [],
   "source": [
    "import tensorflow as tf\n",
    "import pandas as pd\n",
    "import numpy as np\n",
    "import random\n",
    "import matplotlib.pyplot as plt\n",
    "from tensorflow.keras.datasets import fashion_mnist\n",
    "from tensorflow.keras.preprocessing.image import ImageDataGenerator\n",
    "from tensorflow.keras.utils import to_categorical\n",
    "from tensorflow.keras.models import Sequential\n",
    "from tensorflow.keras.layers import Conv2D, MaxPooling2D, Flatten, Dense, Dropout, BatchNormalization\n",
    "from tensorflow.keras.callbacks import EarlyStopping\n",
    "from matplotlib.colors import Normalize"
   ]
  },
  {
   "cell_type": "code",
   "execution_count": null,
   "id": "5b8f5e44-df2a-4a72-a94e-5837b70973cf",
   "metadata": {},
   "outputs": [
    {
     "data": {
      "text/plain": [
       "module"
      ]
     },
     "execution_count": 2,
     "metadata": {},
     "output_type": "execute_result"
    }
   ],
   "source": [
    "type(fashion_mnist) # fashion_mnist is a module inside tensorflow.keras.datasets"
   ]
  },
  {
   "cell_type": "code",
   "execution_count": null,
   "id": "fb221488-6144-4ef9-a299-bd40b1c7347a",
   "metadata": {},
   "outputs": [
    {
     "name": "stdout",
     "output_type": "stream",
     "text": [
      "Training data shape: (60000, 28, 28)\n",
      "Test data shape: (10000, 28, 28)\n"
     ]
    }
   ],
   "source": [
    "(X_train, y_train), (X_test, y_test) = fashion_mnist.load_data()\n",
    "#The function load_data() returns a tuple containing training and testing data\n",
    "\n",
    "# Print the shape of data\n",
    "print(\"Training data shape:\", X_train.shape)\n",
    "print(\"Test data shape:\", X_test.shape)"
   ]
  },
  {
   "cell_type": "code",
   "execution_count": null,
   "id": "d5207b0d-7dcf-4dd5-b9ee-cccf8e5d88b1",
   "metadata": {},
   "outputs": [
    {
     "data": {
      "text/plain": [
       "255"
      ]
     },
     "execution_count": 4,
     "metadata": {},
     "output_type": "execute_result"
    }
   ],
   "source": [
    "np.max(X_train)"
   ]
  },
  {
   "cell_type": "code",
   "execution_count": null,
   "id": "c33b05c7-843e-42ae-b2a6-46ccf18a429e",
   "metadata": {},
   "outputs": [
    {
     "data": {
      "text/plain": [
       "array([9, 0, 0, ..., 3, 0, 5], dtype=uint8)"
      ]
     },
     "execution_count": 5,
     "metadata": {},
     "output_type": "execute_result"
    }
   ],
   "source": [
    "y_train # contains numbers (0–9), each representing a clothing category."
   ]
  },
  {
   "cell_type": "code",
   "execution_count": null,
   "id": "8af868f3-61cb-4170-8f8d-d10c7472ece4",
   "metadata": {},
   "outputs": [
    {
     "data": {
      "text/plain": [
       "array([0, 1, 2, 3, 4, 5, 6, 7, 8, 9], dtype=uint8)"
      ]
     },
     "execution_count": 6,
     "metadata": {},
     "output_type": "execute_result"
    }
   ],
   "source": [
    "np.unique(y_train) # returns the sorted unique class labels present in y_train"
   ]
  },
  {
   "cell_type": "code",
   "execution_count": null,
   "id": "7f12ec6e-8ba3-437d-a604-14504d4907f7",
   "metadata": {},
   "outputs": [
    {
     "name": "stdout",
     "output_type": "stream",
     "text": [
      "['t-shirt/top', 'trouser', 'pullover', 'dress', 'coat', 'sandal', 'shirt', 'sneaker', 'bag', 'ankle boot']\n"
     ]
    }
   ],
   "source": [
    "class_names = [\n",
    "    \"t-shirt/top\", \"trouser\", \"pullover\", \"dress\", \"coat\",\n",
    "    \"sandal\", \"shirt\", \"sneaker\", \"bag\", \"ankle boot\"\n",
    "]\n",
    "print(class_names) \n",
    "\n",
    "# 0 → t-shirt/top  \n",
    "# 1 → trouser  \n",
    "# 2 → pullover  \n",
    "# 3 → dress  \n",
    "# 4 → coat  \n",
    "# 5 → sandal  \n",
    "# 6 → shirt  \n",
    "# 7 → sneaker  \n",
    "# 8 → bag  \n",
    "# 9 → ankle boot  \n"
   ]
  },
  {
   "cell_type": "markdown",
   "id": "886d92f8",
   "metadata": {},
   "source": [
    "4. Data Exploration"
   ]
  },
  {
   "cell_type": "markdown",
   "id": "4b21c6f7",
   "metadata": {},
   "source": [
    "4.1 Dimensions of the training data"
   ]
  },
  {
   "cell_type": "code",
   "execution_count": null,
   "id": "04f32833-ba48-43c8-805d-e1d4edfca517",
   "metadata": {},
   "outputs": [],
   "source": [
    "X_train.shape \n",
    "\n",
    "# 60000 → Number of training images (60,000 samples)\n",
    "# 28 → Image height (28 pixels)\n",
    "# 28 → Image width (28 pixels)"
   ]
  },
  {
   "cell_type": "code",
   "execution_count": null,
   "id": "97d0e95f",
   "metadata": {},
   "outputs": [],
   "source": [
    "X_test.shape\n",
    "\n",
    "# 10000 → Number of test images (10,000 samples)\n",
    "# 28 → Image height (28 pixels)\n",
    "# 28 → Image width (28 pixels)"
   ]
  },
  {
   "cell_type": "code",
   "execution_count": null,
   "id": "fe2a7646",
   "metadata": {},
   "outputs": [],
   "source": [
    "plt.figure() # Creates a new figure in Matplotlib\n",
    "plt.imshow(X_train[0]) # Displays the second image from X_train\n",
    "plt.colorbar() # Adds a color scale next to the image."
   ]
  },
  {
   "cell_type": "code",
   "execution_count": null,
   "id": "42d46153",
   "metadata": {},
   "outputs": [],
   "source": [
    "y_train"
   ]
  },
  {
   "cell_type": "code",
   "execution_count": null,
   "id": "54811bde",
   "metadata": {},
   "outputs": [],
   "source": [
    "X_train = X_train/255.0"
   ]
  },
  {
   "cell_type": "code",
   "execution_count": null,
   "id": "153209a3",
   "metadata": {},
   "outputs": [],
   "source": [
    "X_test = X_test/255.0"
   ]
  },
  {
   "cell_type": "code",
   "execution_count": null,
   "id": "b6b4559d",
   "metadata": {},
   "outputs": [],
   "source": [
    "np.max(X_train) # Max pixel value in the dataset X_train"
   ]
  },
  {
   "cell_type": "code",
   "execution_count": null,
   "id": "da7aa9a2",
   "metadata": {},
   "outputs": [],
   "source": [
    "plt.figure()\n",
    "plt.imshow(X_train[0])\n",
    "plt.colorbar()"
   ]
  },
  {
   "cell_type": "markdown",
   "id": "a25224e0",
   "metadata": {},
   "source": [
    "5 Data Augmentation"
   ]
  },
  {
   "cell_type": "code",
   "execution_count": null,
   "id": "2354fe0d",
   "metadata": {},
   "outputs": [],
   "source": [
    "# Reshape for augmentation (adding a channel dimension)\n",
    "\n",
    "X_train = X_train.reshape(-1, 28, 28, 1)"
   ]
  },
  {
   "cell_type": "code",
   "execution_count": null,
   "id": "db3666e8",
   "metadata": {},
   "outputs": [],
   "source": [
    "# Select 5 random images\n",
    "\n",
    "random_indices = random.sample(range(X_train.shape[0]), 5)\n",
    "random_images = X_train[random_indices]"
   ]
  },
  {
   "cell_type": "code",
   "execution_count": null,
   "id": "cd77180b",
   "metadata": {},
   "outputs": [],
   "source": [
    "# 5 image augmentation techniques\n",
    "augmentations = {\n",
    "    \"Rotated (30°)\": ImageDataGenerator(rotation_range=30),\n",
    "    \"Zoomed (20%)\": ImageDataGenerator(zoom_range=0.2),\n",
    "    \"Width Shifted (20%)\": ImageDataGenerator(width_shift_range=0.2),\n",
    "    \"Height Shifted (20%)\": ImageDataGenerator(height_shift_range=0.2),\n",
    "    \"Sheared (15°)\": ImageDataGenerator(shear_range=15),\n",
    "}"
   ]
  },
  {
   "cell_type": "code",
   "execution_count": null,
   "id": "830137c6",
   "metadata": {},
   "outputs": [],
   "source": [
    "from matplotlib.colors import Normalize\n",
    "\n",
    "fig, axes = plt.subplots(len(random_images), len(augmentations) + 1, figsize=(12, 12))\n",
    "\n",
    "# Choose a colormap - you can change this to other options like 'jet', 'plasma', 'inferno', etc.\n",
    "colormap = 'viridis'\n",
    "\n",
    "# Create a normalizer to ensure consistent color mapping across all images\n",
    "# Assuming pixel values are between 0-1 for grayscale images\n",
    "norm = Normalize(vmin=0, vmax=1)\n",
    "\n",
    "for i, image in enumerate(random_images):\n",
    "    # Make sure image is 2D by squeezing if needed\n",
    "    image_2d = image.squeeze()\n",
    "    \n",
    "    # Display the original image with colormap in the first column\n",
    "    axes[i, 0].imshow(image_2d, cmap=colormap, norm=norm)\n",
    "    axes[i, 0].set_title(\"Original\")\n",
    "    axes[i, 0].axis(\"off\")\n",
    "    \n",
    "    # Apply each augmentation and display\n",
    "    for j, (title, generator) in enumerate(augmentations.items()):\n",
    "        # Prepare image for augmentation\n",
    "        if len(image.shape) == 2:\n",
    "            # Add batch and channel dimensions: (28,28) → (1,28,28,1)\n",
    "            image_for_aug = np.expand_dims(np.expand_dims(image, axis=0), axis=-1)\n",
    "        elif len(image.shape) == 3 and image.shape[-1] == 1:\n",
    "            # Just add batch dimension: (28,28,1) → (1,28,28,1)\n",
    "            image_for_aug = np.expand_dims(image, axis=0)\n",
    "        else:\n",
    "            # Handle other cases if needed\n",
    "            image_for_aug = np.expand_dims(image, axis=0)\n",
    "            \n",
    "        # Generate augmented image\n",
    "        augmented_image = next(generator.flow(image_for_aug, batch_size=1))[0]\n",
    "        \n",
    "        # Make sure augmented image is 2D\n",
    "        augmented_image_2d = augmented_image.squeeze()\n",
    "        \n",
    "        # Display augmented image with colormap\n",
    "        axes[i, j + 1].imshow(augmented_image_2d, cmap=colormap, norm=norm)\n",
    "        axes[i, j + 1].set_title(title)\n",
    "        axes[i, j + 1].axis(\"off\")\n",
    "\n",
    "plt.tight_layout()\n",
    "plt.show()"
   ]
  },
  {
   "cell_type": "markdown",
   "id": "39d537d4",
   "metadata": {},
   "source": [
    "## 6. Training Models\n"
   ]
  },
  {
   "cell_type": "markdown",
   "id": "020c469f",
   "metadata": {},
   "source": [
    "### 6.1 Model Training on Original Data  without Augmentation"
   ]
  },
  {
   "cell_type": "code",
   "execution_count": null,
   "id": "6e0e1022",
   "metadata": {},
   "outputs": [],
   "source": [
    "# Reshape data to add channel dimension (for CNN)\n",
    "X_train = X_train.reshape(-1, 28, 28, 1)\n",
    "X_test = X_test.reshape(-1, 28, 28, 1)"
   ]
  },
  {
   "cell_type": "code",
   "execution_count": null,
   "id": "01deb193",
   "metadata": {},
   "outputs": [],
   "source": [
    "# Convert labels to categorical format (for categorical_crossentropy loss)\n",
    "y_train_categorical = to_categorical(y_train, num_classes=10)\n",
    "y_test_categorical = to_categorical(y_test, num_classes=10)"
   ]
  },
  {
   "cell_type": "code",
   "execution_count": null,
   "id": "9eeba983",
   "metadata": {},
   "outputs": [],
   "source": [
    "def create_model():\n",
    "    model = Sequential([\n",
    "        Conv2D(32, (3,3), activation='relu', input_shape=(28,28,1)),\n",
    "        BatchNormalization(),\n",
    "        MaxPooling2D(2,2),\n",
    "        Conv2D(64, (3,3), activation='relu'),\n",
    "        BatchNormalization(),\n",
    "        MaxPooling2D(2,2),\n",
    "        Flatten(),\n",
    "        Dense(128, activation='relu'),\n",
    "        Dropout(0.5),\n",
    "        Dense(10, activation='softmax')\n",
    "    ])\n",
    "    return model\n",
    "\n",
    "# Create and compile model BEFORE augmentation\n",
    "model_before = create_model()\n",
    "model_before.compile(optimizer='adam', loss='categorical_crossentropy', metrics=['accuracy'])\n",
    "model_before.summary()\n",
    "\n",
    "# Train the model\n",
    "early_stopping = EarlyStopping(monitor='val_loss', patience=3, restore_best_weights=True)\n",
    "\n",
    "history_before = model_before.fit(\n",
    "    X_train, y_train_categorical, \n",
    "    epochs=5, batch_size=64,\n",
    "    validation_data=(X_test, y_test_categorical), \n",
    "  \n",
    ")\n",
    "\n",
    "\n",
    "\n"
   ]
  },
  {
   "cell_type": "code",
   "execution_count": null,
   "id": "45710a51",
   "metadata": {},
   "outputs": [],
   "source": [
    "model_before.save(\"model_before_augmentation.keras\")"
   ]
  },
  {
   "cell_type": "markdown",
   "id": "c746023e",
   "metadata": {},
   "source": [
    "## 6.2  Model Training on Aug. Data "
   ]
  },
  {
   "cell_type": "code",
   "execution_count": null,
   "id": "99d56cbb",
   "metadata": {},
   "outputs": [],
   "source": [
    "# Define data augmentation\n",
    "train_datagen = ImageDataGenerator(\n",
    "    rotation_range=5, \n",
    "    zoom_range=0.1,\n",
    "    width_shift_range=0.05, \n",
    "    height_shift_range=0.05, \n",
    "    horizontal_flip=True\n",
    ")\n",
    "X_train = X_train.reshape((X_train.shape[0], 28, 28, 1))\n",
    "X_test = X_test.reshape((X_test.shape[0], 28, 28, 1))\n",
    "\n",
    "# Create augmented data generator\n",
    "train_generator = train_datagen.flow(X_train, y_train_categorical, batch_size=64)\n",
    "\n",
    "# Create and compile model AFTER augmentation\n",
    "model_after = create_model()  # Create a new instance of the model\n",
    "model_after.compile(optimizer='adam', loss='categorical_crossentropy', metrics=['accuracy'])\n",
    "\n",
    "# Train the model with augmented data\n",
    "history_after = model_after.fit(\n",
    "    train_generator, \n",
    "    epochs=5,\n",
    "    validation_data=(X_test, y_test_categorical),\n",
    "   \n",
    ")\n",
    "\n"
   ]
  },
  {
   "cell_type": "markdown",
   "id": "26ce0255",
   "metadata": {},
   "source": [
    "### Saving Model after augmentation"
   ]
  },
  {
   "cell_type": "code",
   "execution_count": null,
   "id": "55bad1d6",
   "metadata": {},
   "outputs": [],
   "source": [
    "model_after.save(\"model_after_augmentation.keras\")"
   ]
  }
 ],
 "metadata": {
  "kernelspec": {
   "display_name": "Python 3 (ipykernel)",
   "language": "python",
   "name": "python3"
  },
  "language_info": {
   "codemirror_mode": {
    "name": "ipython",
    "version": 3
   },
   "file_extension": ".py",
   "mimetype": "text/x-python",
   "name": "python",
   "nbconvert_exporter": "python",
   "pygments_lexer": "ipython3",
   "version": "3.12.7"
  }
 },
 "nbformat": 4,
 "nbformat_minor": 5
}
